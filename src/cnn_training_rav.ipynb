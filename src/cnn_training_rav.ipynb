{
  "cells": [
    {
      "cell_type": "markdown",
      "metadata": {
        "id": "g2DwsQiSb6xR"
      },
      "source": [
        "## Oxford AI Summit: Kaggle dataset training notebook"
      ]
    },
    {
      "cell_type": "code",
      "execution_count": null,
      "metadata": {
        "colab": {
          "base_uri": "https://localhost:8080/"
        },
        "id": "i4Vqn5oayGjh",
        "outputId": "684c8846-97ca-4517-dd2f-96eac3c7afcd"
      },
      "outputs": [],
      "source": [
        "%pip install kaggle"
      ]
    },
    {
      "cell_type": "code",
      "execution_count": null,
      "metadata": {
        "id": "pk4SACVlb6xT"
      },
      "outputs": [],
      "source": [
        "import os\n",
        "\n",
        "import pandas as pd\n",
        "\n",
        "import tensorflow as tf\n",
        "from tensorflow.keras.models import Sequential\n",
        "from tensorflow.keras.layers import Conv2D, MaxPooling2D, Flatten, Dense, Dropout\n",
        "from tensorflow.keras.callbacks import ModelCheckpoint\n",
        "from tensorflow.keras.preprocessing.image import ImageDataGenerator\n",
        "\n",
        "from sklearn.model_selection import train_test_split\n",
        "\n",
        "from kaggle.api.kaggle_api_extended import KaggleApi"
      ]
    },
    {
      "cell_type": "code",
      "execution_count": null,
      "metadata": {
        "colab": {
          "base_uri": "https://localhost:8080/"
        },
        "id": "zzngwmYNx6NO",
        "outputId": "68447921-6110-4757-cf8c-7b1863d13ea7"
      },
      "outputs": [],
      "source": [
        "# Enable TPU if available\n",
        "try:\n",
        "    tpu = tf.distribute.cluster_resolver.TPUClusterResolver()\n",
        "    tf.config.experimental_connect_to_cluster(tpu)\n",
        "    tf.tpu.experimental.initialize_tpu_system(tpu)\n",
        "    strategy = tf.distribute.TPUStrategy(tpu)\n",
        "    print('Running on TPU')\n",
        "except ValueError:\n",
        "    strategy = tf.distribute.get_strategy()  # Default strategy for CPU and GPU\n",
        "    print('Running on GPU or CPU')"
      ]
    },
    {
      "cell_type": "code",
      "execution_count": null,
      "metadata": {
        "colab": {
          "base_uri": "https://localhost:8080/"
        },
        "id": "X8ye6k36lXxA",
        "outputId": "e5e8206c-44e3-4a73-8ed5-9e146139a270"
      },
      "outputs": [],
      "source": [
        "api = KaggleApi()\n",
        "\n",
        "dataset = 'paramaggarwal/fashion-product-images-dataset'\n",
        "destination_folder = 'fashion_product_images'\n",
        "\n",
        "api.dataset_download_files(dataset, path=destination_folder, unzip=True)"
      ]
    },
    {
      "cell_type": "code",
      "execution_count": null,
      "metadata": {
        "colab": {
          "base_uri": "https://localhost:8080/"
        },
        "id": "Q4j8ztQcqkYH",
        "outputId": "bc4e8333-0783-4cd5-d548-4c39b98f421d"
      },
      "outputs": [],
      "source": [
        "# Load the metadata\n",
        "metadata_path = 'fashion_product_images/fashion-dataset/styles.csv'\n",
        "metadata = pd.read_csv(metadata_path, on_bad_lines='skip')\n",
        "\n",
        "# Display the first few rows of the metadata\n",
        "print(metadata.head())\n",
        "print(metadata.columns)\n",
        "\n",
        "# Replace 'id' with the correct column name containing the unique identifier\n",
        "image_folder = 'fashion_product_images/fashion-dataset/images'\n",
        "metadata['image_path'] = metadata.apply(lambda row: os.path.join(image_folder, str(row['id']) + '.jpg'), axis=1)\n",
        "metadata = metadata[metadata['image_path'].apply(os.path.exists)]\n",
        "\n",
        "# Select relevant columns and encode labels\n",
        "metadata = metadata[['image_path', 'articleType']]\n",
        "metadata['articleType'] = metadata['articleType'].astype('category')\n",
        "metadata['label'] = metadata['articleType'].cat.codes\n",
        "\n",
        "# Ensure each class has at least 2 samples\n",
        "min_samples_per_class = 2\n",
        "class_counts = metadata['label'].value_counts()\n",
        "valid_classes = class_counts[class_counts >= min_samples_per_class].index\n",
        "metadata = metadata[metadata['label'].isin(valid_classes)]\n",
        "\n",
        "# Split into training and validation sets\n",
        "train_df, val_df = train_test_split(metadata, test_size=0.2, stratify=metadata['label'], random_state=5)\n",
        "\n",
        "# Convert the labels to strings\n",
        "train_df['label'] = train_df['label'].astype(str)\n",
        "val_df['label'] = val_df['label'].astype(str)\n",
        "\n",
        "# Find common classes\n",
        "train_classes = set(train_df['label'].unique())\n",
        "val_classes = set(val_df['label'].unique())\n",
        "print(f\"Len: train({len(train_classes)}), val({len(val_classes)})\")\n",
        "print(train_classes - val_classes)\n",
        "common_classes = train_classes.intersection(val_classes)\n",
        "\n",
        "# Filter dataframes to only include common classes\n",
        "train_df = train_df[train_df['label'].isin(common_classes)]\n",
        "val_df = val_df[val_df['label'].isin(common_classes)]\n",
        "\n",
        "# Print the number of unique labels\n",
        "num_classes = len(common_classes)\n",
        "print(f'Number of unique labels: {num_classes}')\n",
        "print(f'Training set size: {len(train_df)}')\n",
        "print(f'Validation set size: {len(val_df)}')\n",
        "\n",
        "print(f'Training set size: {len(train_df)}')\n",
        "print(f'Validation set size: {len(val_df)}')"
      ]
    },
    {
      "cell_type": "code",
      "execution_count": null,
      "metadata": {
        "colab": {
          "base_uri": "https://localhost:8080/"
        },
        "id": "V9wdwGfSsclI",
        "outputId": "1d1f6ff2-9856-445e-b0a2-71ad72290c1a"
      },
      "outputs": [],
      "source": [
        "# Image data generator with augmentation for training\n",
        "train_datagen = ImageDataGenerator(\n",
        "    rescale=1./255,\n",
        "    rotation_range=20,\n",
        "    width_shift_range=0.2,\n",
        "    height_shift_range=0.2,\n",
        "    shear_range=0.2,\n",
        "    zoom_range=0.2,\n",
        "    horizontal_flip=True,\n",
        "    fill_mode='nearest'\n",
        ")\n",
        "\n",
        "# Image data generator for validation (without augmentation)\n",
        "val_datagen = ImageDataGenerator(rescale=1./255)\n",
        "\n",
        "# Data generators\n",
        "train_generator = train_datagen.flow_from_dataframe(\n",
        "    train_df,\n",
        "    x_col='image_path',\n",
        "    y_col='label',\n",
        "    target_size=(128, 128),\n",
        "    batch_size=32,\n",
        "    class_mode='categorical',\n",
        "    shuffle=True,\n",
        ")\n",
        "\n",
        "val_generator = val_datagen.flow_from_dataframe(\n",
        "    val_df,\n",
        "    x_col='image_path',\n",
        "    y_col='label',\n",
        "    target_size=(128, 128),\n",
        "    batch_size=32,\n",
        "    class_mode='categorical',\n",
        "    shuffle=False,\n",
        ")\n"
      ]
    },
    {
      "cell_type": "code",
      "execution_count": null,
      "metadata": {
        "colab": {
          "base_uri": "https://localhost:8080/"
        },
        "id": "dKaZJBXMb6xV",
        "outputId": "da10066c-d2b7-4fb7-f148-798e6501a35e"
      },
      "outputs": [],
      "source": [
        "# Define the CNN model within the strategy scope\n",
        "with strategy.scope():\n",
        "    model = Sequential([\n",
        "        Conv2D(32, (3, 3), activation='relu', input_shape=(128, 128, 3)),\n",
        "        MaxPooling2D((2, 2)),\n",
        "        Conv2D(64, (3, 3), activation='relu'),\n",
        "        MaxPooling2D((2, 2)),\n",
        "        Conv2D(128, (3, 3), activation='relu'),\n",
        "        MaxPooling2D((2, 2)),\n",
        "        Flatten(),\n",
        "        Dense(512, activation='relu'),\n",
        "        Dropout(0.5),\n",
        "        Dense(num_classes, activation='softmax')  # Adjusted number of output units\n",
        "    ])\n",
        "\n",
        "    model.compile(optimizer='adam', loss='categorical_crossentropy', metrics=['accuracy'])\n",
        "    model.summary()"
      ]
    },
    {
      "cell_type": "code",
      "execution_count": null,
      "metadata": {
        "colab": {
          "base_uri": "https://localhost:8080/"
        },
        "id": "gw-fLn0Mb6xV",
        "outputId": "2c034cf5-4db1-4f81-c7e3-c994b67aa7cc"
      },
      "outputs": [],
      "source": [
        "# Train the model\n",
        "checkpoint = ModelCheckpoint('fashion_mnist_model.keras', save_best_only=True)\n",
        "history = model.fit(\n",
        "    train_generator,\n",
        "    epochs=2,\n",
        "    validation_data=val_generator,\n",
        "    callbacks=[checkpoint],\n",
        ")"
      ]
    },
    {
      "cell_type": "code",
      "execution_count": null,
      "metadata": {
        "id": "9FVF0p62u_Ak"
      },
      "outputs": [],
      "source": [
        "# Basic evaluation\n",
        "val_loss, val_acc = model.evaluate(val_generator)\n",
        "print(f'Validation loss: {val_loss}')\n",
        "print(f'Validation accuracy: {val_acc}')"
      ]
    },
    {
      "cell_type": "code",
      "execution_count": null,
      "metadata": {
        "id": "t0PbKbMfb6xV"
      },
      "outputs": [],
      "source": [
        "# Save the model\n",
        "model.save('fashion_mnist_model_final.keras')"
      ]
    }
  ],
  "metadata": {
    "accelerator": "GPU",
    "colab": {
      "gpuType": "T4",
      "provenance": []
    },
    "kernelspec": {
      "display_name": "Python 3",
      "name": "python3"
    },
    "language_info": {
      "codemirror_mode": {
        "name": "ipython",
        "version": 3
      },
      "file_extension": ".py",
      "mimetype": "text/x-python",
      "name": "python",
      "nbconvert_exporter": "python",
      "pygments_lexer": "ipython3",
      "version": "3.11.9"
    }
  },
  "nbformat": 4,
  "nbformat_minor": 0
}
